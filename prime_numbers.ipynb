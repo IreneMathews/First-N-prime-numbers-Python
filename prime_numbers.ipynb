{
  "nbformat": 4,
  "nbformat_minor": 0,
  "metadata": {
    "colab": {
      "name": "prime numbers.ipynb",
      "provenance": []
    },
    "kernelspec": {
      "name": "python3",
      "display_name": "Python 3"
    }
  },
  "cells": [
    {
      "cell_type": "markdown",
      "metadata": {
        "id": "ZcRsK0XHSz-t"
      },
      "source": [
        "# Finding the first n Prime numbers"
      ]
    },
    {
      "cell_type": "code",
      "metadata": {
        "id": "SIXP4ZIHSnK5",
        "outputId": "d0d653d9-eaeb-4b4a-827f-e9a13189effa",
        "colab": {
          "base_uri": "https://localhost:8080/"
        }
      },
      "source": [
        "count = 10 #int(input(\"Enter count: \"))  \n",
        "n=0\n",
        "i=1\n",
        "while n<count:\n",
        "  j=1\n",
        "  ct=0\n",
        "  while j<=i:\n",
        "    if i%j==0:\n",
        "      ct=ct+1\n",
        "    j=j+1\n",
        "  if(ct==2):\n",
        "    print(i)\n",
        "    n=n+1\n",
        "  i=i+1"
      ],
      "execution_count": 1,
      "outputs": [
        {
          "output_type": "stream",
          "text": [
            "2\n",
            "3\n",
            "5\n",
            "7\n",
            "11\n",
            "13\n",
            "17\n",
            "19\n",
            "23\n",
            "29\n"
          ],
          "name": "stdout"
        }
      ]
    }
  ]
}